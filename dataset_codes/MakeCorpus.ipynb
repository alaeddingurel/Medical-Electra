{
 "cells": [
  {
   "cell_type": "code",
   "execution_count": null,
   "metadata": {},
   "outputs": [],
   "source": [
    "places = []\n",
    "\n",
    "# open file and read the content in a list\n",
    "with open('corpus88.txt', 'r') as filehandle:\n",
    "    for line in filehandle:\n",
    "        # remove linebreak which is the last character of the string\n",
    "        currentPlace = line\n",
    "\n",
    "        # add item to the list\n",
    "        places.append(currentPlace)\n",
    "    \n",
    "with open('corpus89.txt', 'r') as filehandle:\n",
    "    for line in filehandle:\n",
    "        # remove linebreak which is the last character of the string\n",
    "        currentPlace = line\n",
    "\n",
    "        # add item to the list\n",
    "        places.append(currentPlace)\n",
    "    \n",
    "with open('corpus91.txt', 'r') as filehandle:\n",
    "    for line in filehandle:\n",
    "        # remove linebreak which is the last character of the string\n",
    "        currentPlace = line\n",
    "\n",
    "        # add item to the list\n",
    "        places.append(currentPlace)\n",
    "\n",
    "with open('corpus92.txt', 'r') as filehandle:\n",
    "    for line in filehandle:\n",
    "        # remove linebreak which is the last character of the string\n",
    "        currentPlace = line\n",
    "\n",
    "        # add item to the list\n",
    "        places.append(currentPlace)\n",
    "\n",
    "with open('corpus93.txt', 'r') as filehandle:\n",
    "    for line in filehandle:\n",
    "        # remove linebreak which is the last character of the string\n",
    "        currentPlace = line\n",
    "\n",
    "        # add item to the list\n",
    "        places.append(currentPlace)\n",
    "\n",
    "with open('corpus6.txt', 'r') as filehandle:\n",
    "    for line in filehandle:\n",
    "        # remove linebreak which is the last character of the string\n",
    "        currentPlace = line\n",
    "\n",
    "        # add item to the list\n",
    "        places.append(currentPlace)\n",
    "\n",
    "with open('corpus7.txt', 'r') as filehandle:\n",
    "    for line in filehandle:\n",
    "        # remove linebreak which is the last character of the string\n",
    "        currentPlace = line\n",
    "\n",
    "        # add item to the list\n",
    "        places.append(currentPlace)\n",
    "\n",
    "with open('corpus8.txt', 'r') as filehandle:\n",
    "    for line in filehandle:\n",
    "        # remove linebreak which is the last character of the string\n",
    "        currentPlace = line\n",
    "\n",
    "        # add item to the list\n",
    "        places.append(currentPlace)\n",
    "\n",
    "with open('corpus9.txt', 'r') as filehandle:\n",
    "    for line in filehandle:\n",
    "        # remove linebreak which is the last character of the string\n",
    "        currentPlace = line\n",
    "\n",
    "        # add item to the list\n",
    "        places.append(currentPlace)\n",
    "\n",
    "with open('corpus10.txt', 'r') as filehandle:\n",
    "    for line in filehandle:\n",
    "        # remove linebreak which is the last character of the string\n",
    "        currentPlace = line\n",
    "\n",
    "        # add item to the list\n",
    "        places.append(currentPlace)\n",
    "\n",
    "with open('corpus11.txt', 'r') as filehandle:\n",
    "    for line in filehandle:\n",
    "        # remove linebreak which is the last character of the string\n",
    "        currentPlace = line\n",
    "\n",
    "        # add item to the list\n",
    "        places.append(currentPlace)\n"
   ]
  },
  {
   "cell_type": "code",
   "execution_count": null,
   "metadata": {},
   "outputs": [],
   "source": [
    "len(places)"
   ]
  },
  {
   "cell_type": "code",
   "execution_count": null,
   "metadata": {},
   "outputs": [],
   "source": [
    "vocab = set()\n",
    "\n",
    "for place in places:\n",
    "    tokens = place.split(\" \")\n",
    "    for token in tokens:\n",
    "        vocab.add(token)"
   ]
  },
  {
   "cell_type": "code",
   "execution_count": null,
   "metadata": {},
   "outputs": [],
   "source": [
    "with open('corpus.txt', 'w') as filehandle:\n",
    "    for line in places:\n",
    "        \n",
    "        if line.strip() == '.':\n",
    "            continue\n",
    "        filehandle.write('%s' % line)"
   ]
  },
  {
   "cell_type": "code",
   "execution_count": null,
   "metadata": {},
   "outputs": [],
   "source": [
    "places = []\n",
    "with open('corpus.txt', 'r') as filehandle:\n",
    "    for line in filehandle:\n",
    "        # remove linebreak which is the last character of the string\n",
    "        currentPlace = line\n",
    "\n",
    "        # add item to the list\n",
    "        places.append(currentPlace)"
   ]
  },
  {
   "cell_type": "code",
   "execution_count": null,
   "metadata": {},
   "outputs": [],
   "source": [
    "x = places[188]\n",
    "len(places)"
   ]
  },
  {
   "cell_type": "code",
   "execution_count": null,
   "metadata": {},
   "outputs": [],
   "source": [
    "with open('corpusex.txt', 'w') as filehandle:\n",
    "    for line in places[:100000]:\n",
    "        filehandle.write('%s' % line)"
   ]
  }
 ],
 "metadata": {
  "kernelspec": {
   "display_name": "Python 3",
   "language": "python",
   "name": "python3"
  },
  "language_info": {
   "codemirror_mode": {
    "name": "ipython",
    "version": 3
   },
   "file_extension": ".py",
   "mimetype": "text/x-python",
   "name": "python",
   "nbconvert_exporter": "python",
   "pygments_lexer": "ipython3",
   "version": "3.8.3"
  }
 },
 "nbformat": 4,
 "nbformat_minor": 4
}
