{
 "cells": [
  {
   "cell_type": "code",
   "execution_count": null,
   "metadata": {
    "id": "-NrzMCAdjZMS"
   },
   "outputs": [],
   "source": [
    "!wget https://raw.githubusercontent.com/huggingface/transformers/master/examples/token-classification/run_ner.py\n",
    "!wget https://raw.githubusercontent.com/huggingface/transformers/master/examples/token-classification/utils_ner.py\n",
    "!wget https://raw.githubusercontent.com/huggingface/transformers/master/examples/token-classification/tasks.py\n",
    "\n",
    "!git clone https://github.com/huggingface/transformers\n",
    "%cd transformers\n",
    "!pip install .\n",
    "!pip install -r ./examples/requirements.txt\n",
    "%cd .."
   ]
  },
  {
   "cell_type": "code",
   "execution_count": null,
   "metadata": {
    "id": "tcIyZkkYIVWo"
   },
   "outputs": [],
   "source": [
    "!pip install pyarrow --upgrade"
   ]
  },
  {
   "cell_type": "code",
   "execution_count": null,
   "metadata": {
    "id": "jP8gH1zTIM0N"
   },
   "outputs": [],
   "source": [
    "import transformers"
   ]
  },
  {
   "cell_type": "code",
   "execution_count": null,
   "metadata": {
    "id": "vyP1hpw3jZMX"
   },
   "outputs": [],
   "source": [
    "# !mkdir data\n",
    "# aynı dizinde data klasöründe train,test,dev tsv dosyaları yükleniyor.\n",
    "# eğer text dosyaları varsa hazır, direk run_ner.py çalıştırılabilir.\n",
    "\n",
    "blankLineIndicator = \"BlankLineIndicator\"\n",
    "blank = \"\"\n",
    "firstColumnIndex = 0\n",
    "secondColumnIndex = 1"
   ]
  },
  {
   "cell_type": "code",
   "execution_count": null,
   "metadata": {
    "id": "d_yjUNgrKb4f"
   },
   "outputs": [],
   "source": [
    "!unzip NERdata.zip -d data"
   ]
  },
  {
   "cell_type": "code",
   "execution_count": null,
   "metadata": {
    "id": "P-0xfwPrjZMd"
   },
   "outputs": [],
   "source": [
    "train_dev_tsv = []\n",
    "\n",
    "with open('./data/NCBI-disease/train_dev.tsv', 'r') as f:\n",
    "  train_dev_pd = f.readlines()\n",
    "\n",
    "\n",
    "for row in train_dev_pd:\n",
    "    row = row.split('\\n')[0].split('\\t')\n",
    "    #Token Sütun İsmi\n",
    "    if row:\n",
    "      pass\n",
    "    if row[firstColumnIndex] == '':\n",
    "        train_dev_tsv.append(blank)\n",
    "    else:           #Token Sütun İsmi\n",
    "       #print(row)\n",
    "       train_dev_tsv.append(row[firstColumnIndex] +  \" \" + row[secondColumnIndex])\n"
   ]
  },
  {
   "cell_type": "code",
   "execution_count": null,
   "metadata": {
    "id": "GMMJQ59jqi9v"
   },
   "outputs": [],
   "source": [
    "test_tsv = []\n",
    "\n",
    "with open('./data/NCBI-disease/test.tsv', 'r') as f:\n",
    "  test_pd = f.readlines()\n",
    "\n",
    "\n",
    "for row in test_pd:\n",
    "    row = row.split('\\n')[0].split('\\t')\n",
    "    #Token Sütun İsmi\n",
    "    if row:\n",
    "      pass\n",
    "    if row[firstColumnIndex] == '':\n",
    "        test_tsv.append(blank)\n",
    "    else:           #Token Sütun İsmi\n",
    "       #print(row)\n",
    "       test_tsv.append(row[firstColumnIndex] +  \" \" + row[secondColumnIndex])\n"
   ]
  },
  {
   "cell_type": "code",
   "execution_count": null,
   "metadata": {
    "id": "FU87j6YqsDwH"
   },
   "outputs": [],
   "source": [
    "dev_tsv = []\n",
    "\n",
    "with open('./data/NCBI-disease/dev.tsv', 'r') as f:\n",
    "  test_pd = f.readlines()\n",
    "\n",
    "\n",
    "for row in test_pd:\n",
    "    row = row.split('\\n')[0].split('\\t')\n",
    "    #Token Sütun İsmi\n",
    "    if row:\n",
    "      pass\n",
    "    if row[firstColumnIndex] == '':\n",
    "        dev_tsv.append(blank)\n",
    "    else:           #Token Sütun İsmi\n",
    "       #print(row)\n",
    "       dev_tsv.append(row[firstColumnIndex] +  \" \" + row[secondColumnIndex])\n"
   ]
  },
  {
   "cell_type": "code",
   "execution_count": null,
   "metadata": {
    "colab": {
     "base_uri": "https://localhost:8080/"
    },
    "id": "GxyD-_05Li65",
    "outputId": "94a591e3-ca5a-41cb-f212-9a1b4d60f075"
   },
   "outputs": [],
   "source": [
    "train_dev_pd[0], train_dev_tsv[0]"
   ]
  },
  {
   "cell_type": "code",
   "execution_count": null,
   "metadata": {
    "colab": {
     "base_uri": "https://localhost:8080/"
    },
    "id": "Nx3yV_vGXVLq",
    "outputId": "4b2230b6-d26e-4477-f4f8-975e0c06828e"
   },
   "outputs": [],
   "source": [
    "l = []\n",
    "for item in train_dev_tsv:\n",
    "  try:\n",
    "    item = item.split()[1]\n",
    "    if item != 'B' and item != 'I' and item != 'O':\n",
    "      print(item)\n",
    "    l.append(item)\n",
    "  except:\n",
    "    pass\n",
    "\n",
    "l = set(l)\n",
    "print(l)\n",
    "\n",
    "with open('labels.txt', 'w') as f:\n",
    "  for item in list(l):\n",
    "    f.write(item + '\\n')\n"
   ]
  },
  {
   "cell_type": "code",
   "execution_count": null,
   "metadata": {
    "colab": {
     "base_uri": "https://localhost:8080/"
    },
    "id": "W3PBc1PJMeYl",
    "outputId": "d1208306-b4c7-4b3a-d61c-c2624dae3c5d"
   },
   "outputs": [],
   "source": [
    "!cut -f2 BC2GM/train.tsv | sort | uniq"
   ]
  },
  {
   "cell_type": "code",
   "execution_count": null,
   "metadata": {
    "id": "sbrM38jYjZMg"
   },
   "outputs": [],
   "source": [
    "def create_txt(file_name, lines):\n",
    "    file = open(file_name, 'w') \n",
    "    for line in lines:\n",
    "        file.write(line + \"\\n\") \n",
    "    file.close()\n",
    "\n",
    "#create_txt(\"./data/train.txt\",train_tsv)\n",
    "create_txt(\"data/NCBI-disease/train.txt\", train_dev_tsv)\n",
    "create_txt(\"data/NCBI-disease/test.txt\", test_tsv)\n",
    "create_txt(\"data/NCBI-disease/dev.txt\", dev_tsv)\n",
    "# txt file'a çeviriyoruz"
   ]
  },
  {
   "cell_type": "code",
   "execution_count": null,
   "metadata": {
    "colab": {
     "base_uri": "https://localhost:8080/"
    },
    "id": "Y9_OvDdOOGAP",
    "outputId": "e1314e12-9233-4800-deeb-6574634eda97"
   },
   "outputs": [],
   "source": [
    "# !cat data/NCBI-disease/train.tsv | tr \"\\t\" \" \" | head -10"
   ]
  },
  {
   "cell_type": "code",
   "execution_count": null,
   "metadata": {
    "id": "lP4TrR-4jZMj"
   },
   "outputs": [],
   "source": [
    "#labels.txt -> unique varlık ismi sınıflarının olduğu text dosyası"
   ]
  },
  {
   "cell_type": "code",
   "execution_count": null,
   "metadata": {
    "id": "-mGNFcBFjZMl"
   },
   "outputs": [],
   "source": [
    "OUTPUT_DIR = \"electra-ner\""
   ]
  },
  {
   "cell_type": "code",
   "execution_count": null,
   "metadata": {
    "colab": {
     "base_uri": "https://localhost:8080/"
    },
    "id": "0Wgmcr74jZMo",
    "outputId": "df37e933-538e-459a-9c31-01035d6b2b25"
   },
   "outputs": [],
   "source": [
    "!python3 run_ner.py --data_dir ./data/NCBI-disease/ \\\n",
    "--labels ./labels.txt \\\n",
    "--model_name_or_path enelpi/med-electra-small-discriminator \\\n",
    "--output_dir $OUTPUT_DIR \\\n",
    "--max_seq_length 192 \\\n",
    "--num_train_epochs 3 \\\n",
    "--per_device_train_batch_size 16 \\\n",
    "--overwrite_output_dir \\\n",
    "--save_steps 10000 \\\n",
    "--seed 41 \\\n",
    "--do_train \\\n",
    "--do_eval \\\n",
    "--do_predict"
   ]
  },
  {
   "cell_type": "code",
   "execution_count": null,
   "metadata": {
    "colab": {
     "base_uri": "https://localhost:8080/"
    },
    "id": "Ep915E19af5l",
    "outputId": "08f1ca49-f7d8-4457-a266-4ed3eb6c51b1"
   },
   "outputs": [],
   "source": [
    "!nvidia-smi"
   ]
  },
  {
   "cell_type": "code",
   "execution_count": null,
   "metadata": {
    "id": "22_CaWfA_rs_"
   },
   "outputs": [],
   "source": []
  }
 ],
 "metadata": {
  "accelerator": "GPU",
  "colab": {
   "collapsed_sections": [],
   "name": "Copy of Copy of NERTraining.ipynb",
   "provenance": []
  },
  "kernelspec": {
   "display_name": "Python 3",
   "language": "python",
   "name": "python3"
  },
  "language_info": {
   "codemirror_mode": {
    "name": "ipython",
    "version": 3
   },
   "file_extension": ".py",
   "mimetype": "text/x-python",
   "name": "python",
   "nbconvert_exporter": "python",
   "pygments_lexer": "ipython3",
   "version": "3.8.3"
  }
 },
 "nbformat": 4,
 "nbformat_minor": 1
}
