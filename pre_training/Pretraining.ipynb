{
 "cells": [
  {
   "cell_type": "code",
   "execution_count": null,
   "metadata": {},
   "outputs": [],
   "source": [
    "#!git clone https://github.com/google-research/electra.git\n",
    "!pip install tensorflow-gpu==1.15\n",
    "#!pip install transformers==3.3.0\n"
   ]
  },
  {
   "cell_type": "code",
   "execution_count": null,
   "metadata": {},
   "outputs": [],
   "source": [
    "import os\n",
    "import json\n",
    "from transformers import AutoTokenizer"
   ]
  },
  {
   "cell_type": "code",
   "execution_count": null,
   "metadata": {},
   "outputs": [],
   "source": [
    "from tokenizers import BertWordPieceTokenizer\n",
    "tokenizer = BertWordPieceTokenizer()\n",
    "\n",
    "paths = [\"../../media/data/ociftci/corpus.txt\"]\n",
    "\n",
    "# Customize training\n",
    "tokenizer.train(files=paths,vocab_size=64_000, min_frequency=500)"
   ]
  },
  {
   "cell_type": "code",
   "execution_count": null,
   "metadata": {},
   "outputs": [],
   "source": [
    "!mkdir med-electra-tokenizerfreqs2200\n",
    "tokenizer.save_model(\"med-electra-tokenizerfreqs2200\")"
   ]
  },
  {
   "cell_type": "code",
   "execution_count": null,
   "metadata": {},
   "outputs": [],
   "source": [
    "DATA_DIR = \"./data\"\n",
    "CORPUS_DIR = \"/media/data/ociftci/data/\"\n",
    "TRAIN_SIZE = 1000000 \n",
    "MODEL_NAME = \"med-electra\" \n",
    "TOKENIZER_DIR = \"./med-electra-tokenizer-64kvocab-500freq\""
   ]
  },
  {
   "cell_type": "code",
   "execution_count": null,
   "metadata": {},
   "outputs": [],
   "source": [
    "!python3 electra/build_pretraining_dataset.py \\\n",
    "  --corpus-dir $CORPUS_DIR \\\n",
    "  --vocab-file $TOKENIZER_DIR/vocab.txt \\\n",
    "  --output-dir $DATA_DIR/pretrain_tfrecords \\\n",
    "  --max-seq-length 128 \\\n",
    "  --blanks-separate-docs True \\\n",
    "  --no-lower-case \\\n",
    "  --num-processes 5"
   ]
  },
  {
   "cell_type": "code",
   "execution_count": null,
   "metadata": {},
   "outputs": [],
   "source": [
    "import json"
   ]
  },
  {
   "cell_type": "code",
   "execution_count": null,
   "metadata": {},
   "outputs": [],
   "source": [
    "import tensorflow as tf\n",
    "print(\"Num GPUs Available: \", len(tf.config.experimental.list_physical_devices('GPU')))"
   ]
  },
  {
   "cell_type": "code",
   "execution_count": null,
   "metadata": {},
   "outputs": [],
   "source": [
    "from tensorflow.python.client import device_lib\n",
    "def get_available_devices():\n",
    "    local_device_protos = device_lib.list_local_devices()\n",
    "    return [x.name for x in local_device_protos]\n",
    "print(get_available_devices()) "
   ]
  },
  {
   "cell_type": "code",
   "execution_count": null,
   "metadata": {},
   "outputs": [],
   "source": [
    "hparams = {\n",
    "    \"do_train\": \"true\",\n",
    "    \"do_eval\": \"false\",\n",
    "    \"model_size\": \"small\",\n",
    "    \"do_lower_case\": \"false\",\n",
    "    \"vocab_size\": 64000,\n",
    "    \"num_train_steps\": 1000000,\n",
    "    \"save_checkpoints_steps\": 50000,\n",
    "    \"train_batch_size\": 128,\n",
    "    \"electra_objective\" :  True,\n",
    "    \n",
    "}\n",
    "           \n",
    "with open(\"hparams.json\", \"w\") as f:\n",
    "    json.dump(hparams, f)"
   ]
  },
  {
   "cell_type": "code",
   "execution_count": null,
   "metadata": {},
   "outputs": [],
   "source": [
    "!python3 electra/run_pretraining.py \\\n",
    "  --data-dir $DATA_DIR \\\n",
    "  --model-name $MODEL_NAME \\\n",
    "  --hparams \"hparams.json\""
   ]
  },
  {
   "cell_type": "code",
   "execution_count": null,
   "metadata": {},
   "outputs": [],
   "source": [
    "!git clone https://github.com/lonePatient/electra_pytorch.git"
   ]
  },
  {
   "cell_type": "code",
   "execution_count": null,
   "metadata": {},
   "outputs": [],
   "source": [
    "MODEL_DIR = \"data/models/med-electra/\"\n",
    "\n",
    "config = {\n",
    "  \"vocab_size\": 64000,\n",
    "  \"embedding_size\": 128,\n",
    "  \"hidden_size\": 256,\n",
    "  \"num_hidden_layers\": 12,\n",
    "  \"num_attention_heads\": 4,\n",
    "  \"intermediate_size\": 1024,\n",
    "  \"generator_size\":\"0.25\",\n",
    "  \"hidden_act\": \"gelu\",\n",
    "  \"hidden_dropout_prob\": 0.1,\n",
    "  \"attention_probs_dropout_prob\": 0.1,\n",
    "  \"max_position_embeddings\": 512,\n",
    "  \"type_vocab_size\": 2,\n",
    "  \"initializer_range\": 0.02\n",
    "}\n",
    "\n",
    "with open(MODEL_DIR + \"config.json\", \"w\") as f:\n",
    "    json.dump(config, f)"
   ]
  },
  {
   "cell_type": "code",
   "execution_count": null,
   "metadata": {},
   "outputs": [],
   "source": [
    "!pip install torch"
   ]
  },
  {
   "cell_type": "code",
   "execution_count": null,
   "metadata": {},
   "outputs": [],
   "source": [
    "#import numpy\n",
    "!pip install --upgrade transformers"
   ]
  },
  {
   "cell_type": "code",
   "execution_count": null,
   "metadata": {},
   "outputs": [],
   "source": []
  },
  {
   "cell_type": "code",
   "execution_count": null,
   "metadata": {},
   "outputs": [],
   "source": [
    "!python electra_pytorch/convert_electra_tf_checkpoint_to_pytorch.py \\\n",
    "    --tf_checkpoint_path=$MODEL_DIR \\\n",
    "    --electra_config_file=$MODEL_DIR/config.json \\\n",
    "    --pytorch_dump_path=$MODEL_DIR/pytorch_model.bin"
   ]
  },
  {
   "cell_type": "code",
   "execution_count": null,
   "metadata": {},
   "outputs": [],
   "source": [
    "import torch\n",
    "import tensorflow as tf\n",
    "from transformers import ElectraForPreTraining, ElectraTokenizerFast"
   ]
  },
  {
   "cell_type": "code",
   "execution_count": null,
   "metadata": {},
   "outputs": [],
   "source": [
    "discriminator = ElectraForPreTraining.from_pretrained(MODEL_DIR,from_tf=True)\n",
    "tokenizer = ElectraTokenizerFast.from_pretrained(DATA_DIR, do_lower_case=False)"
   ]
  },
  {
   "cell_type": "code",
   "execution_count": null,
   "metadata": {},
   "outputs": [],
   "source": [
    "sentence = \"The birds are singing\"\n",
    "fake_sentence = \"The birds are speaking\"\n",
    "\n",
    "fake_tokens = tokenizer.tokenize(fake_sentence, add_special_tokens=True)\n",
    "fake_inputs = tokenizer.encode(fake_sentence, return_tensors=\"pt\")\n",
    "discriminator_outputs = discriminator(fake_inputs)\n",
    "predictions = discriminator_outputs[0] > 0\n",
    "\n",
    "[print(\"%7s\" % token, end=\"\") for token in fake_tokens]\n",
    "print(\"\\n\")\n",
    "[print(\"%7s\" % int(prediction), end=\"\") for prediction in predictions.tolist()];"
   ]
  },
  {
   "cell_type": "code",
   "execution_count": null,
   "metadata": {},
   "outputs": [],
   "source": [
    "from transformers import ElectraTokenizer, ElectraForMaskedLM"
   ]
  },
  {
   "cell_type": "code",
   "execution_count": null,
   "metadata": {},
   "outputs": [],
   "source": [
    "model = ElectraModel.from_pretrained(MODEL_DIR)\n",
    "tokenizer = ElectraTokenizer.from_pretrained(DATA_DIR, do_lower_case=True, return_dict=True)"
   ]
  },
  {
   "cell_type": "code",
   "execution_count": null,
   "metadata": {},
   "outputs": [],
   "source": [
    "text = \"Hello my dog is cute.\"\n",
    "tokenized_text = tokenizer.tokenize(text)\n",
    "\n",
    "masked_index = 5\n",
    "tokenized_text[masked_index] = '[MASK]'"
   ]
  },
  {
   "cell_type": "code",
   "execution_count": null,
   "metadata": {},
   "outputs": [],
   "source": [
    "tokenized_text"
   ]
  },
  {
   "cell_type": "code",
   "execution_count": null,
   "metadata": {},
   "outputs": [],
   "source": [
    "# Convert token to vocabulary indices\n",
    "token_ids = tokenizer.convert_tokens_to_ids(tokenized_text)\n",
    "token_type_ids = [0] * len(token_ids)\n",
    "\n",
    "print(token_ids)\n",
    "print(token_type_ids) # segment_ids\n",
    "\n",
    "# Convert inputs to PyTorch tensors\n",
    "token_ids_tensor = torch.tensor([token_ids]).to('cuda')\n",
    "token_type_ids_tensor = torch.tensor([token_type_ids]).to('cuda')"
   ]
  },
  {
   "cell_type": "code",
   "execution_count": null,
   "metadata": {},
   "outputs": [],
   "source": [
    "model.eval()"
   ]
  },
  {
   "cell_type": "code",
   "execution_count": null,
   "metadata": {},
   "outputs": [],
   "source": [
    "model.to('cuda')"
   ]
  },
  {
   "cell_type": "code",
   "execution_count": null,
   "metadata": {},
   "outputs": [],
   "source": [
    "with torch.no_grad():\n",
    "    outputs = model(token_ids_tensor, token_type_ids=token_type_ids_tensor)\n",
    "    predictions = outputs[0]\n",
    "print(predictions)\n",
    "\n",
    "predicted_index = torch.argmax(predictions[0, masked_index]).item()\n",
    "predicted_token = tokenizer.convert_ids_to_tokens([predicted_index])[0]\n",
    "print('[MASK] =>', predicted_token)"
   ]
  },
  {
   "cell_type": "code",
   "execution_count": null,
   "metadata": {},
   "outputs": [],
   "source": []
  }
 ],
 "metadata": {
  "kernelspec": {
   "display_name": "Python 3",
   "language": "python",
   "name": "python3"
  },
  "language_info": {
   "codemirror_mode": {
    "name": "ipython",
    "version": 3
   },
   "file_extension": ".py",
   "mimetype": "text/x-python",
   "name": "python",
   "nbconvert_exporter": "python",
   "pygments_lexer": "ipython3",
   "version": "3.8.3"
  }
 },
 "nbformat": 4,
 "nbformat_minor": 4
}
